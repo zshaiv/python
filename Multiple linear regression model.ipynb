{
 "cells": [
  {
   "cell_type": "code",
   "execution_count": 1,
   "metadata": {},
   "outputs": [],
   "source": [
    "import pandas as pd\n",
    "import statsmodels.formula.api as smf\n",
    "import numpy as np\n",
    "import matplotlib.pyplot as plt\n",
    "%matplotlib inline"
   ]
  },
  {
   "cell_type": "code",
   "execution_count": null,
   "metadata": {},
   "outputs": [],
   "source": [
    "\n",
    "import warnings\n",
    "warnings.filterwarnings(\"ignore\")"
   ]
  },
  {
   "cell_type": "code",
   "execution_count": null,
   "metadata": {},
   "outputs": [],
   "source": [
    "\n",
    "# import all stock market data into DataFrame\n",
    "aord = pd.read_csv('indice/ALLOrdinary.csv')\n",
    "nikkei = pd.read_csv('indice/Nikkei225.csv')\n",
    "hsi = pd.read_csv('ndice/HSI.csv')\n",
    "daxi = pd.read_csv('indice/DAXI.csv')\n",
    "cac40 = pd.read_csv('indice/CAC40.csv')\n",
    "sp500 = pd.read_csv('indice/SP500.csv')\n",
    "dji = pd.read_csv('indice/DJI.csv')\n",
    "nasdaq = pd.read_csv('indice/nasdaq_composite.csv')\n",
    "spy = pd.read_csv('indice/SPY.csv')\n"
   ]
  },
  {
   "cell_type": "code",
   "execution_count": null,
   "metadata": {},
   "outputs": [],
   "source": [
    "nasdaq.head()"
   ]
  },
  {
   "cell_type": "code",
   "execution_count": null,
   "metadata": {},
   "outputs": [],
   "source": []
  }
 ],
 "metadata": {
  "kernelspec": {
   "display_name": "Python 3",
   "language": "python",
   "name": "python3"
  },
  "language_info": {
   "codemirror_mode": {
    "name": "ipython",
    "version": 3
   },
   "file_extension": ".py",
   "mimetype": "text/x-python",
   "name": "python",
   "nbconvert_exporter": "python",
   "pygments_lexer": "ipython3",
   "version": "3.12.1"
  }
 },
 "nbformat": 4,
 "nbformat_minor": 2
}
